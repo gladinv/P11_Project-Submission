{
 "cells": [
  {
   "cell_type": "markdown",
   "id": "4655263f",
   "metadata": {},
   "source": [
    "## 1. Write a program to find out the prime numbers "
   ]
  },
  {
   "cell_type": "code",
   "execution_count": 27,
   "id": "fc3702cb",
   "metadata": {},
   "outputs": [
    {
     "name": "stdout",
     "output_type": "stream",
     "text": [
      "1\n",
      "2\n",
      "3\n",
      "5\n",
      "7\n",
      "11\n",
      "13\n",
      "17\n",
      "19\n",
      "23\n",
      "29\n",
      "31\n",
      "37\n",
      "41\n",
      "43\n",
      "47\n",
      "53\n",
      "59\n",
      "61\n",
      "67\n",
      "71\n",
      "73\n",
      "79\n",
      "83\n",
      "89\n",
      "97\n"
     ]
    }
   ],
   "source": [
    "# Function to find prime numbers\n",
    "def find_primes(start, end):\n",
    "  # Loop through the given range\n",
    "  for num in range(start, end+1):\n",
    "    # Assume that the current number is prime\n",
    "    is_prime = True\n",
    "    \n",
    "    # Check if the number is prime\n",
    "    for i in range(2, num):\n",
    "      if num % i == 0:\n",
    "        # If the number is divisible by any number\n",
    "        # other than 1 and itself, it is not prime\n",
    "        is_prime = False\n",
    "        break\n",
    "    \n",
    "    # If the number is prime, print it\n",
    "    if is_prime:\n",
    "      print(num)\n",
    "\n",
    "# Find prime numbers between 1 and 100\n",
    "find_primes(1, 100)"
   ]
  },
  {
   "cell_type": "markdown",
   "id": "75f063fc",
   "metadata": {},
   "source": [
    "## 2. Write a program to create the equation (a+b+c) * (a-b-c) * ab + a^2 + b ^2 + (abc)^3"
   ]
  },
  {
   "cell_type": "code",
   "execution_count": 26,
   "id": "7ddba35c",
   "metadata": {},
   "outputs": [
    {
     "name": "stdout",
     "output_type": "stream",
     "text": [
      "-5304\n"
     ]
    }
   ],
   "source": [
    "\n",
    "# Define the variables a, b, and c\n",
    "a = 1\n",
    "b = 2\n",
    "c = 3\n",
    "\n",
    "# Calculate the first part of the equation\n",
    "first_part = (a + b + c) * (a - b - c)\n",
    "\n",
    "# Calculate the second part of the equation\n",
    "second_part = a**2 + b**2 + (a * b * c)**3\n",
    "\n",
    "# Calculate the final result\n",
    "result = first_part * second_part\n",
    "\n",
    "# Print the result\n",
    "print(result)"
   ]
  },
  {
   "cell_type": "markdown",
   "id": "116b6d62",
   "metadata": {},
   "source": [
    "## 3. urlist = ['wood','knife','axe'] , mylist = ['tree', 'apple', 'mango', 'melon'] – combine two lists"
   ]
  },
  {
   "cell_type": "code",
   "execution_count": 25,
   "id": "2f1f2914",
   "metadata": {},
   "outputs": [
    {
     "name": "stdout",
     "output_type": "stream",
     "text": [
      "['wood', 'knife', 'axe', 'tree', 'apple', 'mango', 'melon']\n"
     ]
    }
   ],
   "source": [
    "# Define the first list\n",
    "urlist = ['wood', 'knife', 'axe']\n",
    "\n",
    "# Define the second list\n",
    "mylist = ['tree', 'apple', 'mango', 'melon']\n",
    "\n",
    "# Combine the two lists\n",
    "urlist.extend(mylist)\n",
    "\n",
    "# Print the combined list\n",
    "print(urlist)"
   ]
  },
  {
   "cell_type": "markdown",
   "id": "b00e15cb",
   "metadata": {},
   "source": [
    "## 4. Write a program for natural number based on user input"
   ]
  },
  {
   "cell_type": "code",
   "execution_count": 10,
   "id": "c639908c",
   "metadata": {},
   "outputs": [
    {
     "name": "stdout",
     "output_type": "stream",
     "text": [
      "Enter a number: 20\n",
      "1\n",
      "2\n",
      "3\n",
      "4\n",
      "5\n",
      "6\n",
      "7\n",
      "8\n",
      "9\n",
      "10\n",
      "11\n",
      "12\n",
      "13\n",
      "14\n",
      "15\n",
      "16\n",
      "17\n",
      "18\n",
      "19\n",
      "20\n"
     ]
    }
   ],
   "source": [
    "# Ask the user for a number\n",
    "num = int(input(\"Enter a number: \"))\n",
    "\n",
    "# Use a for loop to iterate over the natural numbers\n",
    "for i in range(1, num+1):\n",
    "  # Print each number\n",
    "  print(i)"
   ]
  },
  {
   "cell_type": "markdown",
   "id": "c7602571",
   "metadata": {},
   "source": [
    "## 5. Write class and function for the equation sqrt(x1-x2) ^ 2 + sqrt( y1 – y2 ) ^2 using try except handling"
   ]
  },
  {
   "cell_type": "code",
   "execution_count": 13,
   "id": "9db8a008",
   "metadata": {},
   "outputs": [],
   "source": [
    "class SquareRootCalculator:\n",
    "  def __init__(self, x1, y1, x2, y2):\n",
    "    self.x1 = x1\n",
    "    self.y1 = y1\n",
    "    self.x2 = x2\n",
    "    self.y2 = y2\n",
    "\n",
    "  def calculate(self):\n",
    "    # Calculate the square root of the difference between x1 and x2\n",
    "    try:\n",
    "      x_diff = (self.x1 - self.x2) ** 2\n",
    "    except ValueError:\n",
    "      x_diff = 0\n",
    "    \n",
    "    # Calculate the square root of the difference between y1 and y2\n",
    "    try:\n",
    "      y_diff = (self.y1 - self.y2) ** 2\n",
    "    except ValueError:\n",
    "      y_diff = 0\n",
    "\n",
    "    # Return the sum of the square roots of the differences\n",
    "    return x_diff + y_diff"
   ]
  },
  {
   "cell_type": "markdown",
   "id": "1ecbf4eb",
   "metadata": {},
   "source": [
    "## 6. Name = “Guvi python” - write a program to get “python” word from the string"
   ]
  },
  {
   "cell_type": "code",
   "execution_count": 24,
   "id": "bfc8f6ac",
   "metadata": {},
   "outputs": [
    {
     "name": "stdout",
     "output_type": "stream",
     "text": [
      "python\n"
     ]
    }
   ],
   "source": [
    "# Define the string\n",
    "name = \"Guvi python\"\n",
    "\n",
    "# Split the string at the space character to create a list of words\n",
    "words = name.split(\" \")\n",
    "\n",
    "# Print the second word in the list\n",
    "print(words[1])"
   ]
  },
  {
   "cell_type": "markdown",
   "id": "624a40b1",
   "metadata": {},
   "source": [
    "## 7. Using class and function - Write a program for palindrome Ex. Madam"
   ]
  },
  {
   "cell_type": "code",
   "execution_count": 22,
   "id": "50bb02b8",
   "metadata": {},
   "outputs": [],
   "source": [
    "class PalindromeChecker:\n",
    "  def __init__(self, string):\n",
    "    self.string = string\n",
    "\n",
    "  def is_palindrome(self):\n",
    "    # Reverse the string\n",
    "    reverse = self.string[::-1]\n",
    "\n",
    "    # Check if the reversed string is equal to the original string\n",
    "    return reverse == self.string"
   ]
  },
  {
   "cell_type": "code",
   "execution_count": 23,
   "id": "be53843b",
   "metadata": {},
   "outputs": [
    {
     "name": "stdout",
     "output_type": "stream",
     "text": [
      "True\n"
     ]
    }
   ],
   "source": [
    "# Create a PalindromeChecker instance\n",
    "checker = PalindromeChecker(\"madam\")\n",
    "\n",
    "# Use the is_palindrome() method to check if the string is a palindrome\n",
    "result = checker.is_palindrome()\n",
    "\n",
    "# Print the result\n",
    "print(result)"
   ]
  },
  {
   "cell_type": "markdown",
   "id": "866b9d95",
   "metadata": {},
   "source": [
    "## 8. Using file handling – write a text file in ur system with “hello world”"
   ]
  },
  {
   "cell_type": "code",
   "execution_count": 20,
   "id": "63936a89",
   "metadata": {},
   "outputs": [],
   "source": [
    "# Open a file in write mode\n",
    "with open(\"hello_world.txt\", \"w\") as file:\n",
    "  # Write the string to the file\n",
    "  file.write(\"hello world\")"
   ]
  },
  {
   "cell_type": "markdown",
   "id": "58e3388c",
   "metadata": {},
   "source": [
    "## 9. Create option button using tkinter GUI in python"
   ]
  },
  {
   "cell_type": "code",
   "execution_count": 19,
   "id": "86b4fc05",
   "metadata": {},
   "outputs": [],
   "source": [
    "import tkinter as tk\n",
    "\n",
    "# Create the root window\n",
    "root = tk.Tk()\n",
    "\n",
    "# Create a StringVar object to store the selected option\n",
    "selected = tk.StringVar()\n",
    "\n",
    "# Create an option button with the label \"Option 1\"\n",
    "option1 = tk.Radiobutton(root, text=\"Option 1\", variable=selected, value=\"Option 1\")\n",
    "\n",
    "# Create an option button with the label \"Option 2\"\n",
    "option2 = tk.Radiobutton(root, text=\"Option 2\", variable=selected, value=\"Option 2\")\n",
    "\n",
    "# Pack the option buttons to display them\n",
    "option1.pack()\n",
    "option2.pack()\n",
    "\n",
    "# Start the main event loop\n",
    "root.mainloop()"
   ]
  },
  {
   "cell_type": "markdown",
   "id": "8a168f19",
   "metadata": {},
   "source": [
    "## 10. Keep only numbers from the following string x = “ 89e9jcd^o38829@3%3,/mkl$w1”"
   ]
  },
  {
   "cell_type": "code",
   "execution_count": 18,
   "id": "2c8971b3",
   "metadata": {},
   "outputs": [
    {
     "name": "stdout",
     "output_type": "stream",
     "text": [
      "['8', '9', '9', '3', '8', '8', '2', '9', '3', '3', '1']\n"
     ]
    }
   ],
   "source": [
    "# Define the string\n",
    "x = \"89e9jcd^o38829@3%3,/mkl$w1\"\n",
    "\n",
    "# Use a regular expression to find all numeric characters in the string\n",
    "import re\n",
    "numbers = re.findall(\"[0-9]\", x)\n",
    "\n",
    "# Print the extracted numbers\n",
    "print(numbers)"
   ]
  },
  {
   "cell_type": "code",
   "execution_count": null,
   "id": "c15ed591",
   "metadata": {},
   "outputs": [],
   "source": []
  }
 ],
 "metadata": {
  "kernelspec": {
   "display_name": "Python 3 (ipykernel)",
   "language": "python",
   "name": "python3"
  },
  "language_info": {
   "codemirror_mode": {
    "name": "ipython",
    "version": 3
   },
   "file_extension": ".py",
   "mimetype": "text/x-python",
   "name": "python",
   "nbconvert_exporter": "python",
   "pygments_lexer": "ipython3",
   "version": "3.9.12"
  }
 },
 "nbformat": 4,
 "nbformat_minor": 5
}
